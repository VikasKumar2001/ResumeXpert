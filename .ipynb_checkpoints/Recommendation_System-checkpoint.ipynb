{
 "cells": [
  {
   "cell_type": "code",
   "execution_count": 1,
   "id": "63dbf0bd-4eb2-4f91-bfbc-cc0ff6efe90b",
   "metadata": {},
   "outputs": [],
   "source": [
    "import pandas as pd\n"
   ]
  },
  {
   "cell_type": "code",
   "execution_count": 2,
   "id": "5f9ba767-aa58-4720-a1ba-f455e0010029",
   "metadata": {},
   "outputs": [],
   "source": [
    "df=pd.read_csv('jobs_dataset_with_feature.csv')"
   ]
  },
  {
   "cell_type": "code",
   "execution_count": 4,
   "id": "77f3a1d1-98c5-49ca-afa3-502a8acefef9",
   "metadata": {},
   "outputs": [
    {
     "data": {
      "text/plain": [
       "(1615940, 2)"
      ]
     },
     "execution_count": 4,
     "metadata": {},
     "output_type": "execute_result"
    }
   ],
   "source": [
    "df.shape"
   ]
  },
  {
   "cell_type": "code",
   "execution_count": 5,
   "id": "6a4eb071-2824-4574-8be9-109a5149046a",
   "metadata": {},
   "outputs": [
    {
     "data": {
      "text/html": [
       "<div>\n",
       "<style scoped>\n",
       "    .dataframe tbody tr th:only-of-type {\n",
       "        vertical-align: middle;\n",
       "    }\n",
       "\n",
       "    .dataframe tbody tr th {\n",
       "        vertical-align: top;\n",
       "    }\n",
       "\n",
       "    .dataframe thead th {\n",
       "        text-align: right;\n",
       "    }\n",
       "</style>\n",
       "<table border=\"1\" class=\"dataframe\">\n",
       "  <thead>\n",
       "    <tr style=\"text-align: right;\">\n",
       "      <th></th>\n",
       "      <th>Role</th>\n",
       "      <th>Features</th>\n",
       "    </tr>\n",
       "  </thead>\n",
       "  <tbody>\n",
       "    <tr>\n",
       "      <th>0</th>\n",
       "      <td>Social Media Manager</td>\n",
       "      <td>5 to 15 Years Digital Marketing Specialist M.T...</td>\n",
       "    </tr>\n",
       "    <tr>\n",
       "      <th>1</th>\n",
       "      <td>Frontend Web Developer</td>\n",
       "      <td>2 to 12 Years Web Developer BCA HTML, CSS, Jav...</td>\n",
       "    </tr>\n",
       "    <tr>\n",
       "      <th>2</th>\n",
       "      <td>Quality Control Manager</td>\n",
       "      <td>0 to 12 Years Operations Manager PhD Quality c...</td>\n",
       "    </tr>\n",
       "    <tr>\n",
       "      <th>3</th>\n",
       "      <td>Wireless Network Engineer</td>\n",
       "      <td>4 to 11 Years Network Engineer PhD Wireless ne...</td>\n",
       "    </tr>\n",
       "    <tr>\n",
       "      <th>4</th>\n",
       "      <td>Conference Manager</td>\n",
       "      <td>1 to 12 Years Event Manager MBA Event planning...</td>\n",
       "    </tr>\n",
       "  </tbody>\n",
       "</table>\n",
       "</div>"
      ],
      "text/plain": [
       "                        Role  \\\n",
       "0       Social Media Manager   \n",
       "1     Frontend Web Developer   \n",
       "2    Quality Control Manager   \n",
       "3  Wireless Network Engineer   \n",
       "4         Conference Manager   \n",
       "\n",
       "                                            Features  \n",
       "0  5 to 15 Years Digital Marketing Specialist M.T...  \n",
       "1  2 to 12 Years Web Developer BCA HTML, CSS, Jav...  \n",
       "2  0 to 12 Years Operations Manager PhD Quality c...  \n",
       "3  4 to 11 Years Network Engineer PhD Wireless ne...  \n",
       "4  1 to 12 Years Event Manager MBA Event planning...  "
      ]
     },
     "execution_count": 5,
     "metadata": {},
     "output_type": "execute_result"
    }
   ],
   "source": [
    "df.head()"
   ]
  },
  {
   "cell_type": "code",
   "execution_count": 6,
   "id": "93b48416-3782-450b-a8d2-7a78a2cc19a7",
   "metadata": {},
   "outputs": [
    {
     "data": {
      "text/plain": [
       "Role\n",
       "Interaction Designer            20580\n",
       "Network Administrator           17470\n",
       "User Interface Designer         14036\n",
       "Social Media Manager            13945\n",
       "User Experience Designer        13935\n",
       "                                ...  \n",
       "Inventory Control Specialist     3342\n",
       "Budget Analyst                   3335\n",
       "Clinical Nurse Manager           3324\n",
       "Social Science Researcher        3321\n",
       "Paid Advertising Specialist      3306\n",
       "Name: count, Length: 376, dtype: int64"
      ]
     },
     "execution_count": 6,
     "metadata": {},
     "output_type": "execute_result"
    }
   ],
   "source": [
    "df['Role'].value_counts()"
   ]
  },
  {
   "cell_type": "code",
   "execution_count": 7,
   "id": "a8facf3e-2e5e-4178-9ae9-f0d58adde4cb",
   "metadata": {},
   "outputs": [],
   "source": [
    " df=df.sample(n=10000)"
   ]
  },
  {
   "cell_type": "code",
   "execution_count": 8,
   "id": "2a8c5244-6140-4367-93fd-fa911f9b38d5",
   "metadata": {
    "scrolled": true
   },
   "outputs": [
    {
     "data": {
      "text/html": [
       "<div>\n",
       "<style scoped>\n",
       "    .dataframe tbody tr th:only-of-type {\n",
       "        vertical-align: middle;\n",
       "    }\n",
       "\n",
       "    .dataframe tbody tr th {\n",
       "        vertical-align: top;\n",
       "    }\n",
       "\n",
       "    .dataframe thead th {\n",
       "        text-align: right;\n",
       "    }\n",
       "</style>\n",
       "<table border=\"1\" class=\"dataframe\">\n",
       "  <thead>\n",
       "    <tr style=\"text-align: right;\">\n",
       "      <th></th>\n",
       "      <th>Role</th>\n",
       "      <th>Features</th>\n",
       "    </tr>\n",
       "  </thead>\n",
       "  <tbody>\n",
       "    <tr>\n",
       "      <th>1198162</th>\n",
       "      <td>Network Administrator</td>\n",
       "      <td>1 to 14 Years Network Engineer M.Tech Network ...</td>\n",
       "    </tr>\n",
       "    <tr>\n",
       "      <th>672033</th>\n",
       "      <td>Dental Hygiene Educator</td>\n",
       "      <td>2 to 13 Years Dental Hygienist MCA Dental hygi...</td>\n",
       "    </tr>\n",
       "    <tr>\n",
       "      <th>930439</th>\n",
       "      <td>Structural Engineer</td>\n",
       "      <td>2 to 8 Years Civil Engineer BA Structural engi...</td>\n",
       "    </tr>\n",
       "    <tr>\n",
       "      <th>849511</th>\n",
       "      <td>Front-End Developer</td>\n",
       "      <td>3 to 10 Years UI Developer M.Com Front-end web...</td>\n",
       "    </tr>\n",
       "    <tr>\n",
       "      <th>386005</th>\n",
       "      <td>Quality Assurance Manager</td>\n",
       "      <td>3 to 9 Years Quality Assurance Analyst PhD Qua...</td>\n",
       "    </tr>\n",
       "  </tbody>\n",
       "</table>\n",
       "</div>"
      ],
      "text/plain": [
       "                              Role  \\\n",
       "1198162      Network Administrator   \n",
       "672033     Dental Hygiene Educator   \n",
       "930439         Structural Engineer   \n",
       "849511         Front-End Developer   \n",
       "386005   Quality Assurance Manager   \n",
       "\n",
       "                                                  Features  \n",
       "1198162  1 to 14 Years Network Engineer M.Tech Network ...  \n",
       "672033   2 to 13 Years Dental Hygienist MCA Dental hygi...  \n",
       "930439   2 to 8 Years Civil Engineer BA Structural engi...  \n",
       "849511   3 to 10 Years UI Developer M.Com Front-end web...  \n",
       "386005   3 to 9 Years Quality Assurance Analyst PhD Qua...  "
      ]
     },
     "execution_count": 8,
     "metadata": {},
     "output_type": "execute_result"
    }
   ],
   "source": [
    "df.head()"
   ]
  },
  {
   "cell_type": "markdown",
   "id": "300a038d-3dfc-4a38-a16c-3a2d3b21bf84",
   "metadata": {},
   "source": [
    "# TFIDF"
   ]
  },
  {
   "cell_type": "code",
   "execution_count": 11,
   "id": "fcbde8fa-90a3-42e8-a77b-4acf2174ba4d",
   "metadata": {},
   "outputs": [],
   "source": [
    "from sklearn.model_selection import train_test_split\n",
    "from sklearn.feature_extraction.text import TfidfVectorizer\n",
    "from sklearn.ensemble import RandomForestClassifier\n",
    "from sklearn.metrics import accuracy_score\n",
    "\n",
    "X = df['Features']\n",
    "y= df['Role']\n",
    "\n",
    "X_train, X_test, y_train, y_test = train_test_split(X,y,test_size=0.2,random_state=42)\n",
    "\n",
    "tfidf_vectorizer= TfidfVectorizer()\n",
    "X_train_tfidf = tfidf_vectorizer.fit_transform(X_train)\n",
    "X_test_tfidf = tfidf_vectorizer.transform(X_test)"
   ]
  },
  {
   "cell_type": "code",
   "execution_count": 40,
   "id": "cd0acf07-c566-4ece-a046-18d8f38e91fc",
   "metadata": {},
   "outputs": [],
   "source": [
    "rf_classifier = RandomForestClassifier(n_estimators=70, max_depth=100, min_samples_leaf=5, random_state=42)\n",
    "rf_classifier.fit(X_train_tfidf,y_train)\n",
    "\n",
    "y_pred= rf_classifier.predict(X_test_tfidf)\n"
   ]
  },
  {
   "cell_type": "code",
   "execution_count": 41,
   "id": "4ea5c1f9-eab3-455c-b21f-e892af3fe375",
   "metadata": {},
   "outputs": [
    {
     "name": "stdout",
     "output_type": "stream",
     "text": [
      "0.92\n"
     ]
    }
   ],
   "source": [
    "accuracy = accuracy_score(y_test,y_pred)\n",
    "print(accuracy)"
   ]
  },
  {
   "cell_type": "code",
   "execution_count": 42,
   "id": "4016a449-5b55-405d-8b7a-1696643eb4fe",
   "metadata": {},
   "outputs": [],
   "source": [
    "import re;\n",
    "def cleanResume(resumeText):\n",
    "    # This is a basic implementation - adjust based on your actual requirements\n",
    "    # Remove special characters, extra spaces, etc.\n",
    "    resumeText = re.sub('http\\S+\\s*', ' ', resumeText)  # Remove URLs\n",
    "    resumeText = re.sub('RT|cc', ' ', resumeText)  # Remove RT and cc\n",
    "    resumeText = re.sub('#\\S+', ' ', resumeText)  # Remove hashtags\n",
    "    resumeText = re.sub('@\\S+', ' ', resumeText)  # Remove mentions\n",
    "    resumeText = re.sub('[%s]' % re.escape(\"\"\"!\"#$%&'()*+,-./:;<=>?@[\\]^_`{|}~\"\"\"), ' ', resumeText)  # Remove punctuations\n",
    "    resumeText = re.sub(r'[^\\x00-\\x7f]',r' ', resumeText)  # Remove non-ASCII characters\n",
    "    resumeText = re.sub('\\s+', ' ', resumeText)  # Replace multiple spaces with single space\n",
    "    return resumeText.lower()  # Convert to lowercase\n",
    "\n",
    "def job_recommendation(resume_text):\n",
    "    resume_text =  cleanResume(resume_text)\n",
    "    resume_tfidf= tfidf_vectorizer.transform([resume_text])\n",
    "    predicted_category = rf_classifier.predict(resume_tfidf)[0]\n",
    "    return predicted_category"
   ]
  },
  {
   "cell_type": "code",
   "execution_count": 44,
   "id": "dde5f109-ee9d-47d4-8643-48f952f0ab53",
   "metadata": {},
   "outputs": [
    {
     "name": "stdout",
     "output_type": "stream",
     "text": [
      "Predicted Category: DevOps Engineer\n"
     ]
    }
   ],
   "source": [
    "resume_file = \"\"\"John Doe\n",
    "📍 Bangalore, India | 📧 john.doe@email.com | 📞 +91-XXXXXXXXXX | LinkedIn | GitHub\n",
    "\n",
    "Professional Summary\n",
    "Experienced IT professional with 3+ years in architecting, deploying, and maintaining scalable, secure, and highly available infrastructure on public cloud platforms. Proven expertise in automation, containerization, and DevOps practices, enabling fast, efficient, and reliable application delivery. Adept at integrating modern infrastructure tools and practices to streamline operations and reduce costs.\n",
    "\n",
    "Core Skills\n",
    "AWS (EC2, S3, Lambda, RDS, IAM, VPC)\n",
    "\n",
    "Azure (Virtual Machines, Blob Storage, Functions, AKS)\n",
    "\n",
    "Terraform, CloudFormation, Ansible\n",
    "\n",
    "Docker, Kubernetes, EKS\n",
    "\n",
    "Jenkins, GitHub Actions, GitLab CI/CD\n",
    "\n",
    "Linux, Bash, Python\n",
    "\n",
    "Monitoring: CloudWatch, Prometheus, Grafana\n",
    "\n",
    "Networking, Load Balancers, DNS, VPN\n",
    "\n",
    "Professional Experience\n",
    "Infrastructure Automation Specialist\n",
    "TechNova Solutions | Hyderabad | Jan 2022 – Present\n",
    "\n",
    "Designed and provisioned AWS infrastructure using Terraform and CloudFormation for production workloads.\n",
    "\n",
    "Automated application deployments using Jenkins and GitHub Actions, reducing release cycle time by 60%.\n",
    "\n",
    "Built and maintained Docker containers and managed orchestration with Kubernetes (EKS).\n",
    "\n",
    "Created monitoring dashboards using CloudWatch and Grafana for real-time system metrics and alerts.\n",
    "\n",
    "Configured secure VPC setups, subnets, and IAM roles for internal microservices.\n",
    "\n",
    "DevOps and Deployment Engineer\n",
    "CloudLogic Pvt. Ltd. | Remote | Jul 2020 – Dec 2021\n",
    "\n",
    "Migrated legacy applications to container-based architecture on Azure Kubernetes Service (AKS).\n",
    "\n",
    "Deployed and maintained Azure Functions for backend automation tasks.\n",
    "\n",
    "Set up CI/CD pipelines using GitLab and Azure DevOps for multi-stage testing and deployment.\n",
    "\n",
    "Implemented backup, disaster recovery, and cost-optimization strategies across services.\n",
    "\n",
    "Collaborated with security team to enforce least-privilege access using IAM and Azure RBAC.\n",
    "\n",
    "Projects\n",
    "🔹 Multi-Region High Availability Architecture\n",
    "Designed a fault-tolerant system on AWS using Route 53, Auto Scaling Groups, and ALB across multiple availability zones.\n",
    "\n",
    "🔹 Serverless API Platform\n",
    "Deployed serverless REST API using AWS Lambda, API Gateway, and DynamoDB with secure access and monitoring.\n",
    "\n",
    "Certifications\n",
    "AWS Certified Solutions Architect – Associate\n",
    "\n",
    "Microsoft Certified: Azure Administrator Associate\n",
    "\n",
    "HashiCorp Certified: Terraform Associate\n",
    "\n",
    "Education\n",
    "Bachelor of Technology in Computer Science\n",
    "National Institute of Technology, Trichy | 2016 – 2020\n",
    "\n",
    "\"\"\"\n",
    "\n",
    "predicted_category=job_recommendation(resume_file)\n",
    "print(\"Predicted Category:\", predicted_category)"
   ]
  },
  {
   "cell_type": "code",
   "execution_count": 45,
   "id": "6fb0f820-4f8f-4d6e-bb4e-3d7c0152852d",
   "metadata": {},
   "outputs": [],
   "source": [
    "import pickle\n",
    "pickle.dump(rf_classifier,open('rf_classifier_job_recommendation.pkl','wb'))\n",
    "pickle.dump(tfidf_vectorizer,open('tfidf_vectorizer_job_recommendation.pkl','wb'))"
   ]
  },
  {
   "cell_type": "code",
   "execution_count": null,
   "id": "ac8632e6-1e00-4b7a-a34c-7288c37f3fd0",
   "metadata": {},
   "outputs": [],
   "source": []
  }
 ],
 "metadata": {
  "kernelspec": {
   "display_name": "Python [conda env:base] *",
   "language": "python",
   "name": "conda-base-py"
  },
  "language_info": {
   "codemirror_mode": {
    "name": "ipython",
    "version": 3
   },
   "file_extension": ".py",
   "mimetype": "text/x-python",
   "name": "python",
   "nbconvert_exporter": "python",
   "pygments_lexer": "ipython3",
   "version": "3.13.5"
  }
 },
 "nbformat": 4,
 "nbformat_minor": 5
}
